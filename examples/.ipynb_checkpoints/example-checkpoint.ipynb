{
 "cells": [
  {
   "cell_type": "markdown",
   "metadata": {},
   "source": [
    "## Advanced Lane Finding Project\n",
    "\n",
    "The goals / steps of this project are the following:\n",
    "\n",
    "* Compute the camera calibration matrix and distortion coefficients given a set of chessboard images.\n",
    "* Apply a distortion correction to raw images.\n",
    "* Use color transforms, gradients, etc., to create a thresholded binary image.\n",
    "* Apply a perspective transform to rectify binary image (\"birds-eye view\").\n",
    "* Detect lane pixels and fit to find the lane boundary.\n",
    "* Determine the curvature of the lane and vehicle position with respect to center.\n",
    "* Warp the detected lane boundaries back onto the original image.\n",
    "* Output visual display of the lane boundaries and numerical estimation of lane curvature and vehicle position.\n",
    "\n",
    "---\n",
    "## First, I'll compute the camera calibration using chessboard images"
   ]
  },
  {
   "cell_type": "code",
   "execution_count": 72,
   "metadata": {
    "collapsed": false
   },
   "outputs": [],
   "source": [
    "#from PyQt5 import QtCore, QtGui, QtWidgets\n",
    "import numpy as np\n",
    "import cv2\n",
    "import glob\n",
    "import matplotlib.pyplot as plt\n",
    "%matplotlib qt\n",
    "\n",
    "nx = 9 # the number of inside corners in x\n",
    "ny = 6 # the number of inside corners in y\n",
    "\n",
    "# prepare object points, like (0,0,0), (1,0,0), (2,0,0) ....,(6,5,0)\n",
    "objp = np.zeros((ny*nx,3), np.float32)\n",
    "objp[:,:2] = np.mgrid[0:9,0:6].T.reshape(-1,2)\n",
    "\n",
    "# Arrays to store object points and image points from all the images.\n",
    "objpoints = [] # 3d points in real world space\n",
    "imgpoints = [] # 2d points in image plane.\n",
    "\n",
    "# Make a list of calibration images\n",
    "images = glob.glob('../camera_cal/calibration*.jpg')\n",
    "\n",
    "# Step through the list and search for chessboard corners\n",
    "for fname in images:\n",
    "    img = cv2.imread(fname)\n",
    "    gray = cv2.cvtColor(img,cv2.COLOR_BGR2GRAY)\n",
    "\n",
    "    # Find the chessboard corners\n",
    "    ret, corners = cv2.findChessboardCorners(gray, (nx,ny),None)\n",
    "\n",
    "    # If found, add object points, image points\n",
    "    if ret == True:\n",
    "        objpoints.append(objp)\n",
    "        imgpoints.append(corners)\n",
    "\n",
    "        # Draw and display the corners\n",
    "        img = cv2.drawChessboardCorners(img, (nx,ny), corners, ret)\n",
    "        cv2.imshow('img',img)\n",
    "        cv2.waitKey(500)\n",
    "\n",
    "cv2.destroyAllWindows()"
   ]
  },
  {
   "cell_type": "markdown",
   "metadata": {},
   "source": [
    "## And so on and so forth..."
   ]
  },
  {
   "cell_type": "code",
   "execution_count": 73,
   "metadata": {
    "collapsed": false
   },
   "outputs": [],
   "source": [
    "#calibrate camera\n",
    "ret, mtx, dist, rvecs, tvecs = cv2.calibrateCamera(objpoints, imgpoints, gray.shape[::-1], None, None)"
   ]
  },
  {
   "cell_type": "code",
   "execution_count": 74,
   "metadata": {
    "collapsed": false
   },
   "outputs": [
    {
     "name": "stdout",
     "output_type": "stream",
     "text": [
      "1.1868973603423718\n"
     ]
    }
   ],
   "source": [
    "print(ret)"
   ]
  },
  {
   "cell_type": "code",
   "execution_count": 75,
   "metadata": {
    "collapsed": true
   },
   "outputs": [],
   "source": [
    "#undistort image\n",
    "dst = cv2.undistort(img, mtx, dist, None, mtx)"
   ]
  },
  {
   "cell_type": "code",
   "execution_count": 76,
   "metadata": {
    "collapsed": true
   },
   "outputs": [],
   "source": [
    "# def cal_undistort(img, objpoints, imgpoints):\n",
    "#     # Use cv2.calibrateCamera() and cv2.undistort()\n",
    "#     gray = cv2.cvtColor(img,cv2.COLOR_BGR2GRAY)\n",
    "#     ret, mtx, dist, rvecs, tvecs = cv2.calibrateCamera(objpoints, imgpoints, gray.shape[::-1], None, None)\n",
    "#     undist = cv2.undistort(img, mtx, dist, None, mtx)\n",
    "#     #undist = np.copy(img)  # Delete this line\n",
    "#     return undist"
   ]
  },
  {
   "cell_type": "code",
   "execution_count": 77,
   "metadata": {
    "collapsed": true
   },
   "outputs": [],
   "source": [
    "def show(original_image, orig_title, new_image, new_title):\n",
    "    f, (ax1, ax2) = plt.subplots(1, 2, figsize=(24, 9))\n",
    "    f.tight_layout()\n",
    "    ax1.imshow(original_image)\n",
    "    ax1.set_title(orig_title, fontsize=50)\n",
    "    ax2.imshow(new_image, cmap='gray')\n",
    "    ax2.set_title(new_title, fontsize=50)\n",
    "    plt.subplots_adjust(left=0., right=1, top=0.9, bottom=0.)\n",
    "\n",
    "    plt.show()"
   ]
  },
  {
   "cell_type": "code",
   "execution_count": 78,
   "metadata": {
    "collapsed": true
   },
   "outputs": [],
   "source": [
    "file_name = images[0]\n",
    "orig_img = cv2.imread(file_name)\n",
    "undistd_img = cv2.undistort(orig_img, mtx, dist, None, mtx)"
   ]
  },
  {
   "cell_type": "code",
   "execution_count": 79,
   "metadata": {
    "collapsed": false
   },
   "outputs": [],
   "source": [
    "show(orig_img, 'Orig Image', undistd_img, 'Undistorted')"
   ]
  },
  {
   "cell_type": "code",
   "execution_count": 80,
   "metadata": {
    "collapsed": true
   },
   "outputs": [],
   "source": [
    "# Define a function that takes an image, number of x and y points, \n",
    "# camera matrix and distortion coefficients\n",
    "def corners_unwarp(img, nx, ny, mtx, dist):\n",
    "    # Use the OpenCV undistort() function to remove distortion\n",
    "    undist = cv2.undistort(img, mtx, dist, None, mtx)\n",
    "    # Convert undistorted image to grayscale\n",
    "    gray = cv2.cvtColor(undist, cv2.COLOR_BGR2GRAY)\n",
    "    # Search for corners in the grayscaled image\n",
    "    ret, corners = cv2.findChessboardCorners(gray, (nx, ny), None)\n",
    "    \n",
    "    warped = None\n",
    "    M = None\n",
    "    message = 'ret is not true'\n",
    "\n",
    "    if ret == True:\n",
    "        message = 'ret is true'\n",
    "        # If we found corners, draw them! (just for fun)\n",
    "        cv2.drawChessboardCorners(undist, (nx, ny), corners, ret)\n",
    "        # Choose offset from image corners to plot detected corners\n",
    "        # This should be chosen to present the result at the proper aspect ratio\n",
    "        # My choice of 100 pixels is not exact, but close enough for our purpose here\n",
    "        offset = 50 # offset for dst points\n",
    "        # Grab the image shape\n",
    "        img_size = (gray.shape[1], gray.shape[0])\n",
    "\n",
    "        # For source points I'm grabbing the outer four detected corners\n",
    "        src = np.float32([corners[0], corners[nx-1], corners[-1], corners[-nx]])\n",
    "        # For destination points, I'm arbitrarily choosing some points to be\n",
    "        # a nice fit for displaying our warped result \n",
    "        # again, not exact, but close enough for our purposes\n",
    "        dst = np.float32([[offset, offset], [img_size[0]-offset, offset], \n",
    "                                     [img_size[0]-offset, img_size[1]-offset], \n",
    "                                     [offset, img_size[1]-offset]])\n",
    "        # Given src and dst points, calculate the perspective transform matrix\n",
    "        M = cv2.getPerspectiveTransform(src, dst)\n",
    "        # Warp the image using OpenCV warpPerspective()\n",
    "        warped = cv2.warpPerspective(undist, M, img_size)\n",
    "\n",
    "    # Return the resulting image and matrix\n",
    "    return warped, M, message"
   ]
  },
  {
   "cell_type": "code",
   "execution_count": 92,
   "metadata": {
    "collapsed": true
   },
   "outputs": [],
   "source": [
    "undist = cv2.undistort(orig_img, mtx, dist, None, mtx)\n",
    "# # Convert undistorted image to grayscale\n",
    "gray = cv2.cvtColor(undist, cv2.COLOR_BGR2GRAY)\n",
    "# # Search for corners in the grayscaled image\n",
    "ret, corners = cv2.findChessboardCorners(gray, (8, 5), None)"
   ]
  },
  {
   "cell_type": "code",
   "execution_count": 93,
   "metadata": {
    "collapsed": true
   },
   "outputs": [],
   "source": [
    "#show(orig_img, 'Orig Image', gray, 'Undistorted')"
   ]
  },
  {
   "cell_type": "code",
   "execution_count": 94,
   "metadata": {
    "collapsed": false
   },
   "outputs": [
    {
     "name": "stdout",
     "output_type": "stream",
     "text": [
      "True\n"
     ]
    }
   ],
   "source": [
    "print(ret)"
   ]
  },
  {
   "cell_type": "code",
   "execution_count": 100,
   "metadata": {
    "collapsed": false
   },
   "outputs": [],
   "source": [
    "#HAD TO CHANGE THIS TO 8,5 AS UNWARPING RESULTED IN FEWER SQUARES BEING SHOW IN IMAGE (RET WAS FALSE)\n",
    "warped, M, msg = corners_unwarp(orig_img, 8, 5, mtx, dist)"
   ]
  },
  {
   "cell_type": "code",
   "execution_count": 101,
   "metadata": {
    "collapsed": false
   },
   "outputs": [
    {
     "name": "stdout",
     "output_type": "stream",
     "text": [
      "ret is true\n"
     ]
    }
   ],
   "source": [
    "print(msg)"
   ]
  },
  {
   "cell_type": "code",
   "execution_count": 102,
   "metadata": {
    "collapsed": false
   },
   "outputs": [],
   "source": [
    "show(orig_img, 'Orig', warped, 'Warped')"
   ]
  },
  {
   "cell_type": "code",
   "execution_count": 97,
   "metadata": {
    "collapsed": true
   },
   "outputs": [],
   "source": [
    "# # Use the OpenCV undistort() function to remove distortion\n",
    "# undist = cv2.undistort(orig_img, mtx, dist, None, mtx)\n",
    "# # Convert undistorted image to grayscale\n",
    "# gray = cv2.cvtColor(undist, cv2.COLOR_BGR2GRAY)\n",
    "# # Search for corners in the grayscaled image\n",
    "# ret, corners = cv2.findChessboardCorners(gray, (nx, ny), None)"
   ]
  },
  {
   "cell_type": "code",
   "execution_count": 98,
   "metadata": {
    "collapsed": false
   },
   "outputs": [
    {
     "name": "stdout",
     "output_type": "stream",
     "text": [
      "[[[ 1156.           596.        ]]\n",
      "\n",
      " [[ 1032.5          598.5       ]]\n",
      "\n",
      " [[  904.65893555   601.40222168]]\n",
      "\n",
      " [[  773.83215332   605.11968994]]\n",
      "\n",
      " [[  644.5          604.        ]]\n",
      "\n",
      " [[  511.26547241   607.82946777]]\n",
      "\n",
      " [[  377.51364136   610.28314209]]\n",
      "\n",
      " [[  244.24543762   612.97515869]]\n",
      "\n",
      " [[ 1166.7355957    472.21890259]]\n",
      "\n",
      " [[ 1036.5          469.        ]]\n",
      "\n",
      " [[  906.14202881   471.63092041]]\n",
      "\n",
      " [[  774.33538818   472.5100708 ]]\n",
      "\n",
      " [[  642.35339355   474.8236084 ]]\n",
      "\n",
      " [[  509.           478.5       ]]\n",
      "\n",
      " [[  375.14654541   477.36990356]]\n",
      "\n",
      " [[  240.38250732   478.12863159]]\n",
      "\n",
      " [[ 1169.43786621   336.97219849]]\n",
      "\n",
      " [[ 1035.93945312   340.03839111]]\n",
      "\n",
      " [[  903.5090332    340.01403809]]\n",
      "\n",
      " [[  773.40631104   340.6619873 ]]\n",
      "\n",
      " [[  641.11224365   341.20465088]]\n",
      "\n",
      " [[  507.82470703   343.47543335]]\n",
      "\n",
      " [[  370.43978882   344.47839355]]\n",
      "\n",
      " [[  234.19230652   344.03240967]]\n",
      "\n",
      " [[ 1166.45092773   205.96817017]]\n",
      "\n",
      " [[ 1035.10192871   208.65394592]]\n",
      "\n",
      " [[  904.99090576   206.7166748 ]]\n",
      "\n",
      " [[  771.49969482   208.44372559]]\n",
      "\n",
      " [[  638.60162354   206.34584045]]\n",
      "\n",
      " [[  503.38919067   209.20056152]]\n",
      "\n",
      " [[  370.61065674   210.45454407]]\n",
      "\n",
      " [[  232.36833191   211.34980774]]\n",
      "\n",
      " [[ 1172.41601562    71.67446899]]\n",
      "\n",
      " [[ 1038.54077148    74.73113251]]\n",
      "\n",
      " [[  906.4161377     72.69564819]]\n",
      "\n",
      " [[  771.32824707    71.78501129]]\n",
      "\n",
      " [[  637.21289062    74.69367981]]\n",
      "\n",
      " [[  502.45297241    72.43981934]]\n",
      "\n",
      " [[  368.61688232    72.43855286]]\n",
      "\n",
      " [[  231.63638306    74.55350494]]]\n"
     ]
    }
   ],
   "source": [
    "print(corners)"
   ]
  },
  {
   "cell_type": "code",
   "execution_count": null,
   "metadata": {
    "collapsed": true
   },
   "outputs": [],
   "source": []
  }
 ],
 "metadata": {
  "anaconda-cloud": {},
  "kernelspec": {
   "display_name": "Python [conda env:carnd-term1]",
   "language": "python",
   "name": "conda-env-carnd-term1-py"
  },
  "language_info": {
   "codemirror_mode": {
    "name": "ipython",
    "version": 3
   },
   "file_extension": ".py",
   "mimetype": "text/x-python",
   "name": "python",
   "nbconvert_exporter": "python",
   "pygments_lexer": "ipython3",
   "version": "3.5.2"
  }
 },
 "nbformat": 4,
 "nbformat_minor": 1
}
